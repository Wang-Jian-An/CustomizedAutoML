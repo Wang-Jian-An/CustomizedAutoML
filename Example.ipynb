{
 "cells": [
  {
   "cell_type": "code",
   "execution_count": 1,
   "metadata": {},
   "outputs": [],
   "source": [
    "import os, itertools\n",
    "import numpy as np\n",
    "import pandas as pd\n",
    "from sklearn.datasets import load_diabetes, load_iris, load_breast_cancer\n",
    "from sklearn.model_selection import train_test_split\n",
    "from AutoML_Flow.MLEnv import *\n",
    "from AutoML_Flow.Model_Training_and_Evaluation_Flow import modelTrainingFlow\n",
    "import comet_ml\n",
    "from comet_ml import Experiment"
   ]
  },
  {
   "cell_type": "markdown",
   "metadata": {},
   "source": [
    "# 實作範例 - Breast Cancer（Binary Classification）"
   ]
  },
  {
   "cell_type": "code",
   "execution_count": 2,
   "metadata": {},
   "outputs": [],
   "source": [
    "rawData = load_breast_cancer(as_frame = True)[\"data\"]\n",
    "rawData = pd.concat([rawData, load_breast_cancer(as_frame = True)[\"target\"]], axis = 1)\n",
    "rawData = rawData.rename(\n",
    "    columns = {\n",
    "        i: i.replace(\" \", \"_\") for i in rawData.columns\n",
    "    }\n",
    ")\n"
   ]
  },
  {
   "cell_type": "code",
   "execution_count": 3,
   "metadata": {
    "scrolled": true
   },
   "outputs": [
    {
     "name": "stderr",
     "output_type": "stream",
     "text": [
      "\u001b[1;38;5;39mCOMET INFO:\u001b[0m Valid Comet API Key saved in /home/wang-jian-an/.comet.config (set COMET_CONFIG to change where it is saved).\n",
      "\u001b[1;38;5;214mCOMET WARNING:\u001b[0m To get all data logged automatically, import comet_ml before the following modules: xgboost, lightgbm, sklearn.\n",
      "\u001b[1;38;5;214mCOMET WARNING:\u001b[0m As you are running in a Jupyter environment, you will need to call `experiment.end()` when finished to ensure all metrics and code are logged before exiting.\n",
      "\u001b[1;38;5;39mCOMET INFO:\u001b[0m Experiment is live on comet.com https://www.comet.com/wang-jian-an/test-comet/8ab0420efa2144e4b32f60bb8ae3cd2c\n",
      "\n"
     ]
    },
    {
     "name": "stdout",
     "output_type": "stream",
     "text": [
      "LightGBM Training\n",
      "最佳 Threshold 0.6156776133205051\n"
     ]
    },
    {
     "name": "stderr",
     "output_type": "stream",
     "text": [
      "\u001b[1;38;5;214mCOMET WARNING:\u001b[0m You are trying to log string value as a metric. This is not recommended.\n",
      "\u001b[1;38;5;39mCOMET INFO:\u001b[0m ---------------------------------------------------------------------------------------\n",
      "\u001b[1;38;5;39mCOMET INFO:\u001b[0m Comet.ml Experiment Summary\n",
      "\u001b[1;38;5;39mCOMET INFO:\u001b[0m ---------------------------------------------------------------------------------------\n",
      "\u001b[1;38;5;39mCOMET INFO:\u001b[0m   Data:\n",
      "\u001b[1;38;5;39mCOMET INFO:\u001b[0m     display_summary_level : 1\n",
      "\u001b[1;38;5;39mCOMET INFO:\u001b[0m     url                   : https://www.comet.com/wang-jian-an/test-comet/8ab0420efa2144e4b32f60bb8ae3cd2c\n",
      "\u001b[1;38;5;39mCOMET INFO:\u001b[0m   Metrics [count] (min, max):\n",
      "\u001b[1;38;5;39mCOMET INFO:\u001b[0m     Number_of_Data_0 [3] : (40, 128)\n",
      "\u001b[1;38;5;39mCOMET INFO:\u001b[0m     Number_of_Data_1 [3] : (70, 213)\n",
      "\u001b[1;38;5;39mCOMET INFO:\u001b[0m     Set                  : test\n",
      "\u001b[1;38;5;39mCOMET INFO:\u001b[0m     accuracy [3]         : (0.9736842105263158, 1.0)\n",
      "\u001b[1;38;5;39mCOMET INFO:\u001b[0m     cross_entropy [3]    : (0.0005044318103485206, 0.1341765278810519)\n",
      "\u001b[1;38;5;39mCOMET INFO:\u001b[0m     f1_0 [3]             : (0.9629629629629629, 1.0)\n",
      "\u001b[1;38;5;39mCOMET INFO:\u001b[0m     f1_1 [3]             : (0.9795918367346939, 1.0)\n",
      "\u001b[1;38;5;39mCOMET INFO:\u001b[0m     f1_macro [3]         : (0.9712773998488284, 1.0)\n",
      "\u001b[1;38;5;39mCOMET INFO:\u001b[0m     f1_micro [3]         : (0.9736842105263158, 1.0)\n",
      "\u001b[1;38;5;39mCOMET INFO:\u001b[0m     macro_precision [3]  : (0.9687604410290678, 1.0)\n",
      "\u001b[1;38;5;39mCOMET INFO:\u001b[0m     macro_recall [3]     : (0.9739864864864864, 1.0)\n",
      "\u001b[1;38;5;39mCOMET INFO:\u001b[0m     micro_precision [3]  : (0.9736842105263158, 1.0)\n",
      "\u001b[1;38;5;39mCOMET INFO:\u001b[0m     micro_recall [3]     : (0.9736842105263158, 1.0)\n",
      "\u001b[1;38;5;39mCOMET INFO:\u001b[0m     prc_auc_0 [3]        : (0.2006959430626098, 0.22409168083062822)\n",
      "\u001b[1;38;5;39mCOMET INFO:\u001b[0m     prc_auc_1 [3]        : (0.9929299482796888, 1.0)\n",
      "\u001b[1;38;5;39mCOMET INFO:\u001b[0m     precision_0 [3]      : (0.9512195121951219, 1.0)\n",
      "\u001b[1;38;5;39mCOMET INFO:\u001b[0m     precision_1 [3]      : (0.9863013698630136, 1.0)\n",
      "\u001b[1;38;5;39mCOMET INFO:\u001b[0m     recall_0 [3]         : (0.975, 1.0)\n",
      "\u001b[1;38;5;39mCOMET INFO:\u001b[0m     recall_1 [3]         : (0.972972972972973, 1.0)\n",
      "\u001b[1;38;5;39mCOMET INFO:\u001b[0m     roc_auc [3]          : (0.9888513513513514, 1.0)\n",
      "\u001b[1;38;5;39mCOMET INFO:\u001b[0m   Parameters:\n",
      "\u001b[1;38;5;39mCOMET INFO:\u001b[0m     Decomposition    : None\n",
      "\u001b[1;38;5;39mCOMET INFO:\u001b[0m     FeatureSelection : None\n",
      "\u001b[1;38;5;39mCOMET INFO:\u001b[0m     Features         : ['mean_radius', 'mean_texture', 'mean_perimeter', 'mean_area', 'mean_smoothness', 'mean_compactness', 'mean_concavity', 'mean_concave_points', 'mean_symmetry', 'mean_fractal_dimension', 'radius_error', 'texture_error', 'perimeter_error', 'area_error', 'smoothness_error', 'compactness_error', 'concavity_error', 'concave_points_error', 'symmetry_error', 'fractal_dimension_error', 'worst_radius', 'worst_texture', 'worst_perimeter', 'worst_area', 'worst_smoothness', 'worst_compactness', 'worst_concavity', 'worst_concave_points', 'worst_symmetry', 'worst_fractal_dimension']\n",
      "\u001b[1;38;5;39mCOMET INFO:\u001b[0m     Imbalanced       : None\n",
      "\u001b[1;38;5;39mCOMET INFO:\u001b[0m     Meta-Learner     : None\n",
      "\u001b[1;38;5;39mCOMET INFO:\u001b[0m     Model            : LightGBM\n",
      "\u001b[1;38;5;39mCOMET INFO:\u001b[0m     Standardization  : None\n",
      "\u001b[1;38;5;39mCOMET INFO:\u001b[0m   Uploads:\n",
      "\u001b[1;38;5;39mCOMET INFO:\u001b[0m     conda-environment-definition : 1\n",
      "\u001b[1;38;5;39mCOMET INFO:\u001b[0m     conda-info                   : 1\n",
      "\u001b[1;38;5;39mCOMET INFO:\u001b[0m     conda-specification          : 1\n",
      "\u001b[1;38;5;39mCOMET INFO:\u001b[0m     curve                        : 3\n",
      "\u001b[1;38;5;39mCOMET INFO:\u001b[0m     environment details          : 1\n",
      "\u001b[1;38;5;39mCOMET INFO:\u001b[0m     filename                     : 1\n",
      "\u001b[1;38;5;39mCOMET INFO:\u001b[0m     git metadata                 : 1\n",
      "\u001b[1;38;5;39mCOMET INFO:\u001b[0m     git-patch (uncompressed)     : 1 (7.29 MB)\n",
      "\u001b[1;38;5;39mCOMET INFO:\u001b[0m     installed packages           : 1\n",
      "\u001b[1;38;5;39mCOMET INFO:\u001b[0m     notebook                     : 1\n",
      "\u001b[1;38;5;39mCOMET INFO:\u001b[0m     os packages                  : 1\n",
      "\u001b[1;38;5;39mCOMET INFO:\u001b[0m     source_code                  : 1\n",
      "\u001b[1;38;5;39mCOMET INFO:\u001b[0m \n",
      "\u001b[1;38;5;214mCOMET WARNING:\u001b[0m To get all data logged automatically, import comet_ml before the following modules: xgboost, lightgbm, sklearn.\n",
      "\u001b[1;38;5;39mCOMET INFO:\u001b[0m Please wait for metadata to finish uploading (timeout is 3600 seconds)\n",
      "\u001b[1;38;5;39mCOMET INFO:\u001b[0m Uploading 1 metrics, params and output messages\n",
      "\u001b[1;38;5;214mCOMET WARNING:\u001b[0m To get all data logged automatically, import comet_ml before the following modules: xgboost, lightgbm, sklearn.\n",
      "\u001b[1;38;5;214mCOMET WARNING:\u001b[0m As you are running in a Jupyter environment, you will need to call `experiment.end()` when finished to ensure all metrics and code are logged before exiting.\n",
      "\u001b[1;38;5;39mCOMET INFO:\u001b[0m Experiment is live on comet.com https://www.comet.com/wang-jian-an/test-comet/f93bda6db34946bfbf7f78129e224a19\n",
      "\n"
     ]
    },
    {
     "name": "stdout",
     "output_type": "stream",
     "text": [
      "LightGBM Training\n",
      "最佳 Threshold 0.6156776133205051\n"
     ]
    },
    {
     "name": "stderr",
     "output_type": "stream",
     "text": [
      "\u001b[1;38;5;39mCOMET INFO:\u001b[0m ---------------------------------------------------------------------------------------\n",
      "\u001b[1;38;5;39mCOMET INFO:\u001b[0m Comet.ml Experiment Summary\n",
      "\u001b[1;38;5;39mCOMET INFO:\u001b[0m ---------------------------------------------------------------------------------------\n",
      "\u001b[1;38;5;39mCOMET INFO:\u001b[0m   Data:\n",
      "\u001b[1;38;5;39mCOMET INFO:\u001b[0m     display_summary_level : 1\n",
      "\u001b[1;38;5;39mCOMET INFO:\u001b[0m     url                   : https://www.comet.com/wang-jian-an/test-comet/f93bda6db34946bfbf7f78129e224a19\n",
      "\u001b[1;38;5;39mCOMET INFO:\u001b[0m   Metrics [count] (min, max):\n",
      "\u001b[1;38;5;39mCOMET INFO:\u001b[0m     Number_of_Data_0 [3] : (40, 128)\n",
      "\u001b[1;38;5;39mCOMET INFO:\u001b[0m     Number_of_Data_1 [3] : (70, 213)\n",
      "\u001b[1;38;5;39mCOMET INFO:\u001b[0m     Set                  : test\n",
      "\u001b[1;38;5;39mCOMET INFO:\u001b[0m     accuracy [3]         : (0.9736842105263158, 1.0)\n",
      "\u001b[1;38;5;39mCOMET INFO:\u001b[0m     cross_entropy [3]    : (0.0005267439550711965, 0.10447915981417596)\n",
      "\u001b[1;38;5;39mCOMET INFO:\u001b[0m     f1_0 [3]             : (0.9629629629629629, 1.0)\n",
      "\u001b[1;38;5;39mCOMET INFO:\u001b[0m     f1_1 [3]             : (0.9795918367346939, 1.0)\n",
      "\u001b[1;38;5;39mCOMET INFO:\u001b[0m     f1_macro [3]         : (0.9712773998488284, 1.0)\n",
      "\u001b[1;38;5;39mCOMET INFO:\u001b[0m     f1_micro [3]         : (0.9736842105263158, 1.0)\n",
      "\u001b[1;38;5;39mCOMET INFO:\u001b[0m     macro_precision [3]  : (0.9687604410290678, 1.0)\n",
      "\u001b[1;38;5;39mCOMET INFO:\u001b[0m     macro_recall [3]     : (0.9739864864864864, 1.0)\n",
      "\u001b[1;38;5;39mCOMET INFO:\u001b[0m     micro_precision [3]  : (0.9736842105263158, 1.0)\n",
      "\u001b[1;38;5;39mCOMET INFO:\u001b[0m     micro_recall [3]     : (0.9736842105263158, 1.0)\n",
      "\u001b[1;38;5;39mCOMET INFO:\u001b[0m     prc_auc_0 [3]        : (0.20061543416448907, 0.22409168083062822)\n",
      "\u001b[1;38;5;39mCOMET INFO:\u001b[0m     prc_auc_1 [3]        : (0.9947881121082658, 1.0)\n",
      "\u001b[1;38;5;39mCOMET INFO:\u001b[0m     precision_0 [3]      : (0.9512195121951219, 1.0)\n",
      "\u001b[1;38;5;39mCOMET INFO:\u001b[0m     precision_1 [3]      : (0.9863013698630136, 1.0)\n",
      "\u001b[1;38;5;39mCOMET INFO:\u001b[0m     recall_0 [3]         : (0.975, 1.0)\n",
      "\u001b[1;38;5;39mCOMET INFO:\u001b[0m     recall_1 [3]         : (0.972972972972973, 1.0)\n",
      "\u001b[1;38;5;39mCOMET INFO:\u001b[0m     roc_auc [3]          : (0.9918918918918919, 1.0)\n",
      "\u001b[1;38;5;39mCOMET INFO:\u001b[0m   Parameters:\n",
      "\u001b[1;38;5;39mCOMET INFO:\u001b[0m     Decomposition    : None\n",
      "\u001b[1;38;5;39mCOMET INFO:\u001b[0m     FeatureSelection : None\n",
      "\u001b[1;38;5;39mCOMET INFO:\u001b[0m     Features         : ['mean_radius', 'mean_texture', 'mean_perimeter', 'mean_area', 'mean_smoothness', 'mean_compactness', 'mean_concavity', 'mean_concave_points', 'mean_symmetry', 'mean_fractal_dimension', 'radius_error', 'texture_error', 'perimeter_error', 'area_error', 'smoothness_error', 'compactness_error', 'concavity_error', 'concave_points_error', 'symmetry_error', 'fractal_dimension_error', 'worst_radius', 'worst_texture', 'worst_perimeter', 'worst_area', 'worst_smoothness', 'worst_compactness', 'worst_concavity', 'worst_concave_points', 'worst_symmetry', 'worst_fractal_dimension']\n",
      "\u001b[1;38;5;39mCOMET INFO:\u001b[0m     Imbalanced       : None\n",
      "\u001b[1;38;5;39mCOMET INFO:\u001b[0m     Meta-Learner     : None\n",
      "\u001b[1;38;5;39mCOMET INFO:\u001b[0m     Model            : LightGBM\n",
      "\u001b[1;38;5;39mCOMET INFO:\u001b[0m     Standardization  : standardization\n",
      "\u001b[1;38;5;39mCOMET INFO:\u001b[0m   Uploads:\n",
      "\u001b[1;38;5;39mCOMET INFO:\u001b[0m     conda-environment-definition : 1\n",
      "\u001b[1;38;5;39mCOMET INFO:\u001b[0m     conda-info                   : 1\n",
      "\u001b[1;38;5;39mCOMET INFO:\u001b[0m     conda-specification          : 1\n",
      "\u001b[1;38;5;39mCOMET INFO:\u001b[0m     curve                        : 3\n",
      "\u001b[1;38;5;39mCOMET INFO:\u001b[0m     environment details          : 1\n",
      "\u001b[1;38;5;39mCOMET INFO:\u001b[0m     filename                     : 1\n",
      "\u001b[1;38;5;39mCOMET INFO:\u001b[0m     git metadata                 : 1\n",
      "\u001b[1;38;5;39mCOMET INFO:\u001b[0m     git-patch (uncompressed)     : 1 (7.29 MB)\n",
      "\u001b[1;38;5;39mCOMET INFO:\u001b[0m     installed packages           : 1\n",
      "\u001b[1;38;5;39mCOMET INFO:\u001b[0m     notebook                     : 1\n",
      "\u001b[1;38;5;39mCOMET INFO:\u001b[0m     os packages                  : 1\n",
      "\u001b[1;38;5;39mCOMET INFO:\u001b[0m     source_code                  : 1\n",
      "\u001b[1;38;5;39mCOMET INFO:\u001b[0m \n",
      "\u001b[1;38;5;214mCOMET WARNING:\u001b[0m To get all data logged automatically, import comet_ml before the following modules: xgboost, lightgbm, sklearn.\n",
      "\u001b[1;38;5;214mCOMET WARNING:\u001b[0m To get all data logged automatically, import comet_ml before the following modules: xgboost, lightgbm, sklearn.\n",
      "\u001b[1;38;5;214mCOMET WARNING:\u001b[0m As you are running in a Jupyter environment, you will need to call `experiment.end()` when finished to ensure all metrics and code are logged before exiting.\n",
      "\u001b[1;38;5;39mCOMET INFO:\u001b[0m Experiment is live on comet.com https://www.comet.com/wang-jian-an/test-comet/1d14c1aa91034b6bbe4aa72afddec19e\n",
      "\n"
     ]
    },
    {
     "name": "stdout",
     "output_type": "stream",
     "text": [
      "LightGBM Training\n",
      "最佳 Threshold 0.7040441568843022\n"
     ]
    },
    {
     "name": "stderr",
     "output_type": "stream",
     "text": [
      "\u001b[1;38;5;39mCOMET INFO:\u001b[0m ---------------------------------------------------------------------------------------\n",
      "\u001b[1;38;5;39mCOMET INFO:\u001b[0m Comet.ml Experiment Summary\n",
      "\u001b[1;38;5;39mCOMET INFO:\u001b[0m ---------------------------------------------------------------------------------------\n",
      "\u001b[1;38;5;39mCOMET INFO:\u001b[0m   Data:\n",
      "\u001b[1;38;5;39mCOMET INFO:\u001b[0m     display_summary_level : 1\n",
      "\u001b[1;38;5;39mCOMET INFO:\u001b[0m     url                   : https://www.comet.com/wang-jian-an/test-comet/1d14c1aa91034b6bbe4aa72afddec19e\n",
      "\u001b[1;38;5;39mCOMET INFO:\u001b[0m   Metrics [count] (min, max):\n",
      "\u001b[1;38;5;39mCOMET INFO:\u001b[0m     Number_of_Data_0 [3] : (40, 128)\n",
      "\u001b[1;38;5;39mCOMET INFO:\u001b[0m     Number_of_Data_1 [3] : (70, 213)\n",
      "\u001b[1;38;5;39mCOMET INFO:\u001b[0m     Set                  : test\n",
      "\u001b[1;38;5;39mCOMET INFO:\u001b[0m     accuracy [3]         : (0.9736842105263158, 1.0)\n",
      "\u001b[1;38;5;39mCOMET INFO:\u001b[0m     cross_entropy [3]    : (0.0003517921455408879, 0.15515625740244304)\n",
      "\u001b[1;38;5;39mCOMET INFO:\u001b[0m     f1_0 [3]             : (0.9629629629629629, 1.0)\n",
      "\u001b[1;38;5;39mCOMET INFO:\u001b[0m     f1_1 [3]             : (0.9795918367346939, 1.0)\n",
      "\u001b[1;38;5;39mCOMET INFO:\u001b[0m     f1_macro [3]         : (0.9712773998488284, 1.0)\n",
      "\u001b[1;38;5;39mCOMET INFO:\u001b[0m     f1_micro [3]         : (0.9736842105263158, 1.0)\n",
      "\u001b[1;38;5;39mCOMET INFO:\u001b[0m     macro_precision [3]  : (0.9687604410290678, 1.0)\n",
      "\u001b[1;38;5;39mCOMET INFO:\u001b[0m     macro_recall [3]     : (0.9739864864864864, 1.0)\n",
      "\u001b[1;38;5;39mCOMET INFO:\u001b[0m     micro_precision [3]  : (0.9736842105263158, 1.0)\n",
      "\u001b[1;38;5;39mCOMET INFO:\u001b[0m     micro_recall [3]     : (0.9736842105263158, 1.0)\n",
      "\u001b[1;38;5;39mCOMET INFO:\u001b[0m     prc_auc_0 [3]        : (0.21690644567663167, 0.22538379280473583)\n",
      "\u001b[1;38;5;39mCOMET INFO:\u001b[0m     prc_auc_1 [3]        : (0.940256789951963, 1.0)\n",
      "\u001b[1;38;5;39mCOMET INFO:\u001b[0m     precision_0 [3]      : (0.9512195121951219, 1.0)\n",
      "\u001b[1;38;5;39mCOMET INFO:\u001b[0m     precision_1 [3]      : (0.9863013698630136, 1.0)\n",
      "\u001b[1;38;5;39mCOMET INFO:\u001b[0m     recall_0 [3]         : (0.975, 1.0)\n",
      "\u001b[1;38;5;39mCOMET INFO:\u001b[0m     recall_1 [3]         : (0.972972972972973, 1.0)\n",
      "\u001b[1;38;5;39mCOMET INFO:\u001b[0m     roc_auc [3]          : (0.9743243243243243, 1.0)\n",
      "\u001b[1;38;5;39mCOMET INFO:\u001b[0m   Parameters:\n",
      "\u001b[1;38;5;39mCOMET INFO:\u001b[0m     Decomposition    : None\n",
      "\u001b[1;38;5;39mCOMET INFO:\u001b[0m     FeatureSelection : None\n",
      "\u001b[1;38;5;39mCOMET INFO:\u001b[0m     Features         : ['mean_radius', 'mean_texture', 'mean_perimeter', 'mean_area', 'mean_smoothness', 'mean_compactness', 'mean_concavity', 'mean_concave_points', 'mean_symmetry', 'mean_fractal_dimension', 'radius_error', 'texture_error', 'perimeter_error', 'area_error', 'smoothness_error', 'compactness_error', 'concavity_error', 'concave_points_error', 'symmetry_error', 'fractal_dimension_error', 'worst_radius', 'worst_texture', 'worst_perimeter', 'worst_area', 'worst_smoothness', 'worst_compactness', 'worst_concavity', 'worst_concave_points', 'worst_symmetry', 'worst_fractal_dimension']\n",
      "\u001b[1;38;5;39mCOMET INFO:\u001b[0m     Imbalanced       : None\n",
      "\u001b[1;38;5;39mCOMET INFO:\u001b[0m     Meta-Learner     : None\n",
      "\u001b[1;38;5;39mCOMET INFO:\u001b[0m     Model            : LightGBM\n",
      "\u001b[1;38;5;39mCOMET INFO:\u001b[0m     Standardization  : normalization\n",
      "\u001b[1;38;5;39mCOMET INFO:\u001b[0m   Uploads:\n",
      "\u001b[1;38;5;39mCOMET INFO:\u001b[0m     conda-environment-definition : 1\n",
      "\u001b[1;38;5;39mCOMET INFO:\u001b[0m     conda-info                   : 1\n",
      "\u001b[1;38;5;39mCOMET INFO:\u001b[0m     conda-specification          : 1\n",
      "\u001b[1;38;5;39mCOMET INFO:\u001b[0m     curve                        : 3\n",
      "\u001b[1;38;5;39mCOMET INFO:\u001b[0m     environment details          : 1\n",
      "\u001b[1;38;5;39mCOMET INFO:\u001b[0m     filename                     : 1\n",
      "\u001b[1;38;5;39mCOMET INFO:\u001b[0m     git metadata                 : 1\n",
      "\u001b[1;38;5;39mCOMET INFO:\u001b[0m     git-patch (uncompressed)     : 1 (7.29 MB)\n",
      "\u001b[1;38;5;39mCOMET INFO:\u001b[0m     installed packages           : 1\n",
      "\u001b[1;38;5;39mCOMET INFO:\u001b[0m     notebook                     : 1\n",
      "\u001b[1;38;5;39mCOMET INFO:\u001b[0m     os packages                  : 1\n",
      "\u001b[1;38;5;39mCOMET INFO:\u001b[0m     source_code                  : 1\n",
      "\u001b[1;38;5;39mCOMET INFO:\u001b[0m \n",
      "\u001b[1;38;5;214mCOMET WARNING:\u001b[0m To get all data logged automatically, import comet_ml before the following modules: xgboost, lightgbm, sklearn.\n",
      "\u001b[1;38;5;39mCOMET INFO:\u001b[0m Uploading 1 metrics, params and output messages\n",
      "\u001b[1;38;5;39mCOMET INFO:\u001b[0m Please wait for assets to finish uploading (timeout is 10800 seconds)\n",
      "\u001b[1;38;5;39mCOMET INFO:\u001b[0m All assets have been sent, waiting for delivery confirmation\n",
      "\u001b[1;38;5;214mCOMET WARNING:\u001b[0m To get all data logged automatically, import comet_ml before the following modules: xgboost, lightgbm, sklearn.\n",
      "\u001b[1;38;5;214mCOMET WARNING:\u001b[0m As you are running in a Jupyter environment, you will need to call `experiment.end()` when finished to ensure all metrics and code are logged before exiting.\n",
      "\u001b[1;38;5;39mCOMET INFO:\u001b[0m Experiment is live on comet.com https://www.comet.com/wang-jian-an/test-comet/1d9e84e7d645445c9c8fdb1099d4f108\n",
      "\n"
     ]
    },
    {
     "name": "stdout",
     "output_type": "stream",
     "text": [
      "LightGBM Training\n",
      "最佳 Threshold 0.6156776133205051\n"
     ]
    },
    {
     "name": "stderr",
     "output_type": "stream",
     "text": [
      "\u001b[1;38;5;39mCOMET INFO:\u001b[0m ---------------------------------------------------------------------------------------\n",
      "\u001b[1;38;5;39mCOMET INFO:\u001b[0m Comet.ml Experiment Summary\n",
      "\u001b[1;38;5;39mCOMET INFO:\u001b[0m ---------------------------------------------------------------------------------------\n",
      "\u001b[1;38;5;39mCOMET INFO:\u001b[0m   Data:\n",
      "\u001b[1;38;5;39mCOMET INFO:\u001b[0m     display_summary_level : 1\n",
      "\u001b[1;38;5;39mCOMET INFO:\u001b[0m     url                   : https://www.comet.com/wang-jian-an/test-comet/1d9e84e7d645445c9c8fdb1099d4f108\n",
      "\u001b[1;38;5;39mCOMET INFO:\u001b[0m   Metrics [count] (min, max):\n",
      "\u001b[1;38;5;39mCOMET INFO:\u001b[0m     Number_of_Data_0 [3] : (40, 128)\n",
      "\u001b[1;38;5;39mCOMET INFO:\u001b[0m     Number_of_Data_1 [3] : (70, 213)\n",
      "\u001b[1;38;5;39mCOMET INFO:\u001b[0m     Set                  : test\n",
      "\u001b[1;38;5;39mCOMET INFO:\u001b[0m     accuracy [3]         : (0.9736842105263158, 1.0)\n",
      "\u001b[1;38;5;39mCOMET INFO:\u001b[0m     cross_entropy [3]    : (0.0005223266275290266, 0.0979248516881491)\n",
      "\u001b[1;38;5;39mCOMET INFO:\u001b[0m     f1_0 [3]             : (0.9629629629629629, 1.0)\n",
      "\u001b[1;38;5;39mCOMET INFO:\u001b[0m     f1_1 [3]             : (0.9795918367346939, 1.0)\n",
      "\u001b[1;38;5;39mCOMET INFO:\u001b[0m     f1_macro [3]         : (0.9712773998488284, 1.0)\n",
      "\u001b[1;38;5;39mCOMET INFO:\u001b[0m     f1_micro [3]         : (0.9736842105263158, 1.0)\n",
      "\u001b[1;38;5;39mCOMET INFO:\u001b[0m     macro_precision [3]  : (0.9687604410290678, 1.0)\n",
      "\u001b[1;38;5;39mCOMET INFO:\u001b[0m     macro_recall [3]     : (0.9739864864864864, 1.0)\n",
      "\u001b[1;38;5;39mCOMET INFO:\u001b[0m     micro_precision [3]  : (0.9736842105263158, 1.0)\n",
      "\u001b[1;38;5;39mCOMET INFO:\u001b[0m     micro_recall [3]     : (0.9736842105263158, 1.0)\n",
      "\u001b[1;38;5;39mCOMET INFO:\u001b[0m     prc_auc_0 [3]        : (0.20059760885254613, 0.22409168083062822)\n",
      "\u001b[1;38;5;39mCOMET INFO:\u001b[0m     prc_auc_1 [3]        : (0.9958085451209296, 1.0)\n",
      "\u001b[1;38;5;39mCOMET INFO:\u001b[0m     precision_0 [3]      : (0.9512195121951219, 1.0)\n",
      "\u001b[1;38;5;39mCOMET INFO:\u001b[0m     precision_1 [3]      : (0.9863013698630136, 1.0)\n",
      "\u001b[1;38;5;39mCOMET INFO:\u001b[0m     recall_0 [3]         : (0.975, 1.0)\n",
      "\u001b[1;38;5;39mCOMET INFO:\u001b[0m     recall_1 [3]         : (0.972972972972973, 1.0)\n",
      "\u001b[1;38;5;39mCOMET INFO:\u001b[0m     roc_auc [3]          : (0.9932432432432432, 1.0)\n",
      "\u001b[1;38;5;39mCOMET INFO:\u001b[0m   Parameters:\n",
      "\u001b[1;38;5;39mCOMET INFO:\u001b[0m     Decomposition    : None\n",
      "\u001b[1;38;5;39mCOMET INFO:\u001b[0m     FeatureSelection : None\n",
      "\u001b[1;38;5;39mCOMET INFO:\u001b[0m     Features         : ['mean_radius', 'mean_texture', 'mean_perimeter', 'mean_area', 'mean_smoothness', 'mean_compactness', 'mean_concavity', 'mean_concave_points', 'mean_symmetry', 'mean_fractal_dimension', 'radius_error', 'texture_error', 'perimeter_error', 'area_error', 'smoothness_error', 'compactness_error', 'concavity_error', 'concave_points_error', 'symmetry_error', 'fractal_dimension_error', 'worst_radius', 'worst_texture', 'worst_perimeter', 'worst_area', 'worst_smoothness', 'worst_compactness', 'worst_concavity', 'worst_concave_points', 'worst_symmetry', 'worst_fractal_dimension']\n",
      "\u001b[1;38;5;39mCOMET INFO:\u001b[0m     Imbalanced       : None\n",
      "\u001b[1;38;5;39mCOMET INFO:\u001b[0m     Meta-Learner     : None\n",
      "\u001b[1;38;5;39mCOMET INFO:\u001b[0m     Model            : LightGBM\n",
      "\u001b[1;38;5;39mCOMET INFO:\u001b[0m     Standardization  : min-max_scaler\n",
      "\u001b[1;38;5;39mCOMET INFO:\u001b[0m   Uploads:\n",
      "\u001b[1;38;5;39mCOMET INFO:\u001b[0m     conda-environment-definition : 1\n",
      "\u001b[1;38;5;39mCOMET INFO:\u001b[0m     conda-info                   : 1\n",
      "\u001b[1;38;5;39mCOMET INFO:\u001b[0m     conda-specification          : 1\n",
      "\u001b[1;38;5;39mCOMET INFO:\u001b[0m     curve                        : 3\n",
      "\u001b[1;38;5;39mCOMET INFO:\u001b[0m     environment details          : 1\n",
      "\u001b[1;38;5;39mCOMET INFO:\u001b[0m     filename                     : 1\n",
      "\u001b[1;38;5;39mCOMET INFO:\u001b[0m     git metadata                 : 1\n",
      "\u001b[1;38;5;39mCOMET INFO:\u001b[0m     git-patch (uncompressed)     : 1 (7.29 MB)\n",
      "\u001b[1;38;5;39mCOMET INFO:\u001b[0m     installed packages           : 1\n",
      "\u001b[1;38;5;39mCOMET INFO:\u001b[0m     notebook                     : 1\n",
      "\u001b[1;38;5;39mCOMET INFO:\u001b[0m     os packages                  : 1\n",
      "\u001b[1;38;5;39mCOMET INFO:\u001b[0m     source_code                  : 1\n",
      "\u001b[1;38;5;39mCOMET INFO:\u001b[0m \n",
      "\u001b[1;38;5;214mCOMET WARNING:\u001b[0m To get all data logged automatically, import comet_ml before the following modules: xgboost, lightgbm, sklearn.\n",
      "\u001b[1;38;5;39mCOMET INFO:\u001b[0m Uploading 1 metrics, params and output messages\n",
      "\u001b[1;38;5;214mCOMET WARNING:\u001b[0m To get all data logged automatically, import comet_ml before the following modules: xgboost, lightgbm, sklearn.\n",
      "\u001b[1;38;5;214mCOMET WARNING:\u001b[0m As you are running in a Jupyter environment, you will need to call `experiment.end()` when finished to ensure all metrics and code are logged before exiting.\n",
      "\u001b[1;38;5;39mCOMET INFO:\u001b[0m Experiment is live on comet.com https://www.comet.com/wang-jian-an/test-comet/78252e8773b34ac7948639a01c8c83e8\n",
      "\n"
     ]
    },
    {
     "name": "stdout",
     "output_type": "stream",
     "text": [
      "LightGBM Training\n",
      "最佳 Threshold 0.7586583141090728\n"
     ]
    },
    {
     "name": "stderr",
     "output_type": "stream",
     "text": [
      "\u001b[1;38;5;39mCOMET INFO:\u001b[0m ---------------------------------------------------------------------------------------\n",
      "\u001b[1;38;5;39mCOMET INFO:\u001b[0m Comet.ml Experiment Summary\n",
      "\u001b[1;38;5;39mCOMET INFO:\u001b[0m ---------------------------------------------------------------------------------------\n",
      "\u001b[1;38;5;39mCOMET INFO:\u001b[0m   Data:\n",
      "\u001b[1;38;5;39mCOMET INFO:\u001b[0m     display_summary_level : 1\n",
      "\u001b[1;38;5;39mCOMET INFO:\u001b[0m     url                   : https://www.comet.com/wang-jian-an/test-comet/78252e8773b34ac7948639a01c8c83e8\n",
      "\u001b[1;38;5;39mCOMET INFO:\u001b[0m   Metrics [count] (min, max):\n",
      "\u001b[1;38;5;39mCOMET INFO:\u001b[0m     Number_of_Data_0 [3] : (40, 128)\n",
      "\u001b[1;38;5;39mCOMET INFO:\u001b[0m     Number_of_Data_1 [3] : (70, 213)\n",
      "\u001b[1;38;5;39mCOMET INFO:\u001b[0m     Set                  : test\n",
      "\u001b[1;38;5;39mCOMET INFO:\u001b[0m     accuracy [3]         : (0.9649122807017544, 1.0)\n",
      "\u001b[1;38;5;39mCOMET INFO:\u001b[0m     cross_entropy [3]    : (0.0008304953766727394, 0.13212212064878356)\n",
      "\u001b[1;38;5;39mCOMET INFO:\u001b[0m     f1_0 [3]             : (0.9512195121951219, 1.0)\n",
      "\u001b[1;38;5;39mCOMET INFO:\u001b[0m     f1_1 [3]             : (0.9726027397260274, 1.0)\n",
      "\u001b[1;38;5;39mCOMET INFO:\u001b[0m     f1_macro [3]         : (0.9619111259605746, 1.0)\n",
      "\u001b[1;38;5;39mCOMET INFO:\u001b[0m     f1_micro [3]         : (0.9649122807017544, 1.0)\n",
      "\u001b[1;38;5;39mCOMET INFO:\u001b[0m     macro_precision [3]  : (0.9573412698412699, 1.0)\n",
      "\u001b[1;38;5;39mCOMET INFO:\u001b[0m     macro_recall [3]     : (0.9672297297297296, 1.0)\n",
      "\u001b[1;38;5;39mCOMET INFO:\u001b[0m     micro_precision [3]  : (0.9649122807017544, 1.0)\n",
      "\u001b[1;38;5;39mCOMET INFO:\u001b[0m     micro_recall [3]     : (0.9649122807017544, 1.0)\n",
      "\u001b[1;38;5;39mCOMET INFO:\u001b[0m     prc_auc_0 [3]        : (0.20071810718548744, 0.22409168083062822)\n",
      "\u001b[1;38;5;39mCOMET INFO:\u001b[0m     prc_auc_1 [3]        : (0.9914316346909392, 1.0)\n",
      "\u001b[1;38;5;39mCOMET INFO:\u001b[0m     precision_0 [3]      : (0.9285714285714286, 1.0)\n",
      "\u001b[1;38;5;39mCOMET INFO:\u001b[0m     precision_1 [3]      : (0.9861111111111112, 1.0)\n",
      "\u001b[1;38;5;39mCOMET INFO:\u001b[0m     recall_0 [3]         : (0.975, 1.0)\n",
      "\u001b[1;38;5;39mCOMET INFO:\u001b[0m     recall_1 [3]         : (0.9594594594594594, 1.0)\n",
      "\u001b[1;38;5;39mCOMET INFO:\u001b[0m     roc_auc [3]          : (0.9871621621621622, 1.0)\n",
      "\u001b[1;38;5;39mCOMET INFO:\u001b[0m   Parameters:\n",
      "\u001b[1;38;5;39mCOMET INFO:\u001b[0m     Decomposition    : PCA\n",
      "\u001b[1;38;5;39mCOMET INFO:\u001b[0m     FeatureSelection : None\n",
      "\u001b[1;38;5;39mCOMET INFO:\u001b[0m     Features         : ['mean_radius', 'mean_texture', 'mean_perimeter', 'mean_area', 'mean_smoothness', 'mean_compactness', 'mean_concavity', 'mean_concave_points', 'mean_symmetry', 'mean_fractal_dimension', 'radius_error', 'texture_error', 'perimeter_error', 'area_error', 'smoothness_error', 'compactness_error', 'concavity_error', 'concave_points_error', 'symmetry_error', 'fractal_dimension_error', 'worst_radius', 'worst_texture', 'worst_perimeter', 'worst_area', 'worst_smoothness', 'worst_compactness', 'worst_concavity', 'worst_concave_points', 'worst_symmetry', 'worst_fractal_dimension']\n",
      "\u001b[1;38;5;39mCOMET INFO:\u001b[0m     Imbalanced       : None\n",
      "\u001b[1;38;5;39mCOMET INFO:\u001b[0m     Meta-Learner     : None\n",
      "\u001b[1;38;5;39mCOMET INFO:\u001b[0m     Model            : LightGBM\n",
      "\u001b[1;38;5;39mCOMET INFO:\u001b[0m     Standardization  : None\n",
      "\u001b[1;38;5;39mCOMET INFO:\u001b[0m   Uploads:\n",
      "\u001b[1;38;5;39mCOMET INFO:\u001b[0m     conda-environment-definition : 1\n",
      "\u001b[1;38;5;39mCOMET INFO:\u001b[0m     conda-info                   : 1\n",
      "\u001b[1;38;5;39mCOMET INFO:\u001b[0m     conda-specification          : 1\n",
      "\u001b[1;38;5;39mCOMET INFO:\u001b[0m     curve                        : 3\n",
      "\u001b[1;38;5;39mCOMET INFO:\u001b[0m     environment details          : 1\n",
      "\u001b[1;38;5;39mCOMET INFO:\u001b[0m     filename                     : 1\n",
      "\u001b[1;38;5;39mCOMET INFO:\u001b[0m     git metadata                 : 1\n",
      "\u001b[1;38;5;39mCOMET INFO:\u001b[0m     git-patch (uncompressed)     : 1 (7.29 MB)\n",
      "\u001b[1;38;5;39mCOMET INFO:\u001b[0m     installed packages           : 1\n",
      "\u001b[1;38;5;39mCOMET INFO:\u001b[0m     notebook                     : 1\n",
      "\u001b[1;38;5;39mCOMET INFO:\u001b[0m     os packages                  : 1\n",
      "\u001b[1;38;5;39mCOMET INFO:\u001b[0m     source_code                  : 1\n",
      "\u001b[1;38;5;39mCOMET INFO:\u001b[0m \n",
      "\u001b[1;38;5;214mCOMET WARNING:\u001b[0m To get all data logged automatically, import comet_ml before the following modules: xgboost, lightgbm, sklearn.\n",
      "\u001b[1;38;5;39mCOMET INFO:\u001b[0m Uploading 1 metrics, params and output messages\n"
     ]
    }
   ],
   "source": [
    "allResult = list()\n",
    "comet_ml.init(\n",
    "    api_key = \"Gf2pShKy0vlxCromlw33qYwOg\", \n",
    "    project_name = \"test-comet\"\n",
    ")\n",
    "\n",
    "\n",
    "trainData, testData = train_test_split(rawData, test_size = 0.2, shuffle = True) \n",
    "trainData, valiData = train_test_split(trainData, test_size = 0.25, shuffle = True) \n",
    "for oneFE in featureEngineerFlow[:5]:\n",
    "\n",
    "    experiment = Experiment()\n",
    "\n",
    "    totalResult = modelTrainingFlow(\n",
    "        trainData = trainData,\n",
    "        valiData = valiData,\n",
    "        testData = testData,\n",
    "        inputFeatures = trainData.drop(columns = [\"target\"]).columns.tolist(), \n",
    "        target = \"target\", \n",
    "        targetType = \"classification\",\n",
    "        ml_methods = oneFE,\n",
    "        hyperparameter_tuning_method = \"default\", \n",
    "        hyperparameter_tuning_epochs = 1, \n",
    "        HTMetric = \"cross_entropy\", \n",
    "        thresholdMetric = \"f1_1\", \n",
    "        featureSelection = oneFE[\"FeatureSelection\"],\n",
    "        modelNameList = [\n",
    "            [\"LightGBM\"]\n",
    "            # [\"Random Forest with Entropy\"],\n",
    "            # [\"LightGBM\", \"XGBoost\", \"Random Forest with Entropy\"] * 10, \n",
    "        ], \n",
    "        fitBestModel = False,\n",
    "        # metaLearner = \"XGBoost\", \n",
    "        # modelFilePath = \"./\", \n",
    "        importanceMethod = [\"None\"],\n",
    "    )\n",
    "    result = totalResult.fit()\n",
    "\n",
    "    for one_parameters, one_metrics in zip(\n",
    "        result[\"Evaluation\"][0],\n",
    "        result[\"Evaluation\"][1]\n",
    "    ):\n",
    "\n",
    "        experiment.log_curve(\n",
    "            name = \"ROC\",\n",
    "            x = one_metrics[\"fpr\"],\n",
    "            y = one_metrics[\"tpr\"]\n",
    "        )\n",
    "\n",
    "        one_metrics = {\n",
    "            key: value\n",
    "            for key, value in one_metrics.items() if not(type(value) == list)\n",
    "        }\n",
    "        experiment.log_parameters(one_parameters)\n",
    "        experiment.log_metrics(one_metrics)\n",
    "\n",
    "        # if one_parameters[\"Set\"] == \"train\":\n",
    "        #     with experiment.train():\n",
    "        #         experiment.log_parameters(one_parameters)        \n",
    "        #         experiment.log_metrics(one_metrics)  \n",
    "        # elif one_parameters[\"Set\"] == \"vali\":\n",
    "        #     with experiment.validate():\n",
    "        #         experiment.log_parameters(one_parameters)        \n",
    "        #         experiment.log_metrics(one_metrics)  \n",
    "        # elif one_parameters[\"Set\"] == \"test\":\n",
    "        #     with experiment.test():\n",
    "        #         experiment.log_parameters(one_parameters)        \n",
    "        #         experiment.log_metrics(one_metrics)    \n",
    "    experiment.end()\n",
    "    allResult.append(result)"
   ]
  },
  {
   "cell_type": "code",
   "execution_count": 6,
   "metadata": {},
   "outputs": [
    {
     "data": {
      "text/html": [
       "<div>\n",
       "<style scoped>\n",
       "    .dataframe tbody tr th:only-of-type {\n",
       "        vertical-align: middle;\n",
       "    }\n",
       "\n",
       "    .dataframe tbody tr th {\n",
       "        vertical-align: top;\n",
       "    }\n",
       "\n",
       "    .dataframe thead th {\n",
       "        text-align: right;\n",
       "    }\n",
       "</style>\n",
       "<table border=\"1\" class=\"dataframe\">\n",
       "  <thead>\n",
       "    <tr style=\"text-align: right;\">\n",
       "      <th></th>\n",
       "      <th>Model</th>\n",
       "      <th>Meta-Learner</th>\n",
       "      <th>Features</th>\n",
       "      <th>FeatureSelection</th>\n",
       "      <th>Imbalanced</th>\n",
       "      <th>Decomposition</th>\n",
       "      <th>Standardization</th>\n",
       "    </tr>\n",
       "  </thead>\n",
       "  <tbody>\n",
       "    <tr>\n",
       "      <th>0</th>\n",
       "      <td>LightGBM</td>\n",
       "      <td>None</td>\n",
       "      <td>[mean_radius, mean_texture, mean_perimeter, me...</td>\n",
       "      <td>None</td>\n",
       "      <td>None</td>\n",
       "      <td>PCA</td>\n",
       "      <td>None</td>\n",
       "    </tr>\n",
       "    <tr>\n",
       "      <th>1</th>\n",
       "      <td>LightGBM</td>\n",
       "      <td>None</td>\n",
       "      <td>[mean_radius, mean_texture, mean_perimeter, me...</td>\n",
       "      <td>None</td>\n",
       "      <td>None</td>\n",
       "      <td>PCA</td>\n",
       "      <td>None</td>\n",
       "    </tr>\n",
       "    <tr>\n",
       "      <th>2</th>\n",
       "      <td>LightGBM</td>\n",
       "      <td>None</td>\n",
       "      <td>[mean_radius, mean_texture, mean_perimeter, me...</td>\n",
       "      <td>None</td>\n",
       "      <td>None</td>\n",
       "      <td>PCA</td>\n",
       "      <td>None</td>\n",
       "    </tr>\n",
       "  </tbody>\n",
       "</table>\n",
       "</div>"
      ],
      "text/plain": [
       "      Model Meta-Learner                                           Features  \\\n",
       "0  LightGBM         None  [mean_radius, mean_texture, mean_perimeter, me...   \n",
       "1  LightGBM         None  [mean_radius, mean_texture, mean_perimeter, me...   \n",
       "2  LightGBM         None  [mean_radius, mean_texture, mean_perimeter, me...   \n",
       "\n",
       "  FeatureSelection Imbalanced Decomposition Standardization  \n",
       "0             None       None           PCA            None  \n",
       "1             None       None           PCA            None  \n",
       "2             None       None           PCA            None  "
      ]
     },
     "execution_count": 6,
     "metadata": {},
     "output_type": "execute_result"
    }
   ],
   "source": [
    "pd.DataFrame.from_records(result[\"Evaluation\"][0])"
   ]
  },
  {
   "cell_type": "code",
   "execution_count": null,
   "metadata": {},
   "outputs": [],
   "source": [
    "pd.DataFrame(result[\"PermutationImportance\"][\"originalData\"])"
   ]
  },
  {
   "cell_type": "code",
   "execution_count": null,
   "metadata": {},
   "outputs": [],
   "source": [
    "pd.DataFrame(result[\"PermutationImportance\"][\"trainData\"])"
   ]
  },
  {
   "cell_type": "code",
   "execution_count": null,
   "metadata": {},
   "outputs": [],
   "source": []
  },
  {
   "cell_type": "markdown",
   "metadata": {},
   "source": [
    "# 實作範例 - Iris Datasets（Multi-class Classification）"
   ]
  },
  {
   "cell_type": "code",
   "execution_count": null,
   "metadata": {},
   "outputs": [],
   "source": []
  },
  {
   "cell_type": "code",
   "execution_count": null,
   "metadata": {},
   "outputs": [],
   "source": [
    "rawData = load_iris(as_frame = True)[\"data\"]\n",
    "rawData = pd.concat([rawData, load_iris(as_frame = True)[\"target\"]], axis = 1)\n",
    "rawData = rawData.rename(\n",
    "    columns = {\n",
    "        \"sepal length (cm)\": \"sepal_length_(cm)\",\n",
    "        \"sepal width (cm)\": \"sepal_width_(cm)\",\n",
    "        \"petal length (cm)\": \"petal_length_(cm)\",\n",
    "        \"petal width (cm)\": \"'petal_width_(cm)\"\n",
    "    }\n",
    ")\n",
    "trainData, testData = train_test_split(rawData, test_size = 0.2, shuffle = True) \n",
    "trainData, valiData = train_test_split(trainData, test_size = 0.25, shuffle = True) \n",
    "trainData, valiData, testData = trainData.reset_index(drop = True), valiData.reset_index(drop = True), testData.reset_index(drop = True) "
   ]
  },
  {
   "cell_type": "markdown",
   "metadata": {},
   "source": [
    "## Feature Engineer and Model Training"
   ]
  },
  {
   "cell_type": "code",
   "execution_count": null,
   "metadata": {},
   "outputs": [],
   "source": [
    "from AutoML_Flow.Model_Training_and_Evaluation_Flow import modelTrainingFlow \n",
    "for oneFE in featureEngineerFlow:\n",
    "    totalResult = modelTrainingFlow(\n",
    "        trainData = trainData,\n",
    "        valiData = valiData,\n",
    "        testData = testData,\n",
    "        inputFeatures = trainData.drop(columns = [\"target\"]).columns.tolist(), \n",
    "        target = \"target\", \n",
    "        targetType = \"classification\",\n",
    "        ml_methods = oneFE,\n",
    "        HTMetric = \"cross_entropy\",\n",
    "        thresholdMetric = \"f1_1\", \n",
    "        featureSelection = oneFE[\"FeatureSelection\"],\n",
    "        hyperparameter_tuning_method = \"TPESampler\", \n",
    "        hyperparameter_tuning_epochs = 1\n",
    "    )\n",
    "    result = totalResult.fit(permutationImportanceMethod = [\"trainData\", \"originalData\"])"
   ]
  },
  {
   "cell_type": "code",
   "execution_count": null,
   "metadata": {},
   "outputs": [],
   "source": [
    "pd.DataFrame(result[\"Evaluation\"])"
   ]
  },
  {
   "cell_type": "code",
   "execution_count": null,
   "metadata": {},
   "outputs": [],
   "source": [
    "pd.DataFrame(result[\"PermutationImportance\"][\"originalData\"])"
   ]
  },
  {
   "cell_type": "code",
   "execution_count": null,
   "metadata": {},
   "outputs": [],
   "source": [
    "pd.DataFrame(result[\"PermutationImportance\"][\"trainData\"])"
   ]
  },
  {
   "cell_type": "code",
   "execution_count": null,
   "metadata": {},
   "outputs": [],
   "source": []
  },
  {
   "cell_type": "markdown",
   "metadata": {},
   "source": [
    "# 實作範例 - Diabete Datasets"
   ]
  },
  {
   "cell_type": "code",
   "execution_count": null,
   "metadata": {},
   "outputs": [],
   "source": [
    "rawData = load_diabetes(as_frame = True)[\"data\"]\n",
    "rawData = pd.concat([rawData, load_diabetes(as_frame = True)[\"target\"]], axis = 1)\n",
    "trainData, testData = train_test_split(rawData, test_size = 0.2, shuffle = True) \n",
    "trainData, valiData = train_test_split(trainData, test_size = 0.25, shuffle = True) \n",
    "trainData, valiData, testData = trainData.reset_index(drop = True), valiData.reset_index(drop = True), testData.reset_index(drop = True) "
   ]
  },
  {
   "cell_type": "markdown",
   "metadata": {},
   "source": [
    "## Feature Engineer and Model Training"
   ]
  },
  {
   "cell_type": "code",
   "execution_count": null,
   "metadata": {
    "scrolled": true
   },
   "outputs": [],
   "source": [
    "from AutoML_Flow.Model_Training_and_Evaluation_Flow import modelTrainingFlow \n",
    "for oneFE in featureEngineerFlow:\n",
    "    modelTrainingFlow = modelTrainingFlow(\n",
    "        trainData = trainData,\n",
    "        valiData = valiData,\n",
    "        testData = testData,\n",
    "        inputFeatures = trainData.drop(columns = [\"target\"]).columns.tolist(), \n",
    "        target = \"target\", \n",
    "        ml_methods = oneFE,\n",
    "        targetType = \"regression\",\n",
    "        HTMetric = \"RMSE\", \n",
    "        hyperparameter_tuning_method = \"TPESampler\", \n",
    "        hyperparameter_tuning_epochs = 1, \n",
    "        featureSelection = oneFE[\"FeatureSelection\"],\n",
    "        importanceMethod = [\"None\"],\n",
    "        modelNameList = [\n",
    "            [\"LightGBM\", \"CatBoost\"]\n",
    "        ]\n",
    "    )\n",
    "    totalResult = modelTrainingFlow.fit()\n",
    "    break"
   ]
  },
  {
   "cell_type": "code",
   "execution_count": null,
   "metadata": {
    "scrolled": true
   },
   "outputs": [],
   "source": [
    "pd.DataFrame(totalResult[\"Evaluation\"])"
   ]
  },
  {
   "cell_type": "code",
   "execution_count": null,
   "metadata": {
    "scrolled": true
   },
   "outputs": [],
   "source": [
    "pd.DataFrame(totalResult[\"Evaluation\"])"
   ]
  },
  {
   "cell_type": "code",
   "execution_count": null,
   "metadata": {},
   "outputs": [],
   "source": []
  },
  {
   "cell_type": "markdown",
   "metadata": {},
   "source": [
    "# 不平衡資料處理範例"
   ]
  },
  {
   "cell_type": "code",
   "execution_count": null,
   "metadata": {},
   "outputs": [],
   "source": [
    "import numpy as np\n",
    "import pandas as pd\n",
    "from imblearn.datasets import fetch_dataset\n",
    "dataset = fetch_dataset()[\"thyroid_sick\"]"
   ]
  },
  {
   "cell_type": "code",
   "execution_count": null,
   "metadata": {},
   "outputs": [],
   "source": []
  },
  {
   "cell_type": "code",
   "execution_count": null,
   "metadata": {},
   "outputs": [],
   "source": []
  }
 ],
 "metadata": {
  "kernelspec": {
   "display_name": "Python 3 (ipykernel)",
   "language": "python",
   "name": "python3"
  },
  "language_info": {
   "codemirror_mode": {
    "name": "ipython",
    "version": 3
   },
   "file_extension": ".py",
   "mimetype": "text/x-python",
   "name": "python",
   "nbconvert_exporter": "python",
   "pygments_lexer": "ipython3",
   "version": "3.11.5"
  },
  "vscode": {
   "interpreter": {
    "hash": "af4a1e6a86c740b63a37040b3f0131c5c5c454fa1507d305e6c23d6bab4bfa1c"
   }
  }
 },
 "nbformat": 4,
 "nbformat_minor": 4
}
