{
 "cells": [
  {
   "cell_type": "code",
   "execution_count": 1,
   "metadata": {},
   "outputs": [
    {
     "name": "stderr",
     "output_type": "stream",
     "text": [
      "c:\\python_3_9_8\\lib\\site-packages\\tqdm\\auto.py:22: TqdmWarning: IProgress not found. Please update jupyter and ipywidgets. See https://ipywidgets.readthedocs.io/en/stable/user_install.html\n",
      "  from .autonotebook import tqdm as notebook_tqdm\n"
     ]
    }
   ],
   "source": [
    "import numpy as np\n",
    "import pandas as pd\n",
    "from sklearn.datasets import load_diabetes\n",
    "from sklearn.model_selection import train_test_split\n",
    "import Model_Training_and_Evaluation_Flow"
   ]
  },
  {
   "cell_type": "code",
   "execution_count": 2,
   "metadata": {},
   "outputs": [
    {
     "name": "stdout",
     "output_type": "stream",
     "text": [
      "        age       sex       bmi        bp        s1        s2        s3  \\\n",
      "0  0.038076  0.050680  0.061696  0.021872 -0.044223 -0.034821 -0.043401   \n",
      "1 -0.001882 -0.044642 -0.051474 -0.026328 -0.008449 -0.019163  0.074412   \n",
      "2  0.085299  0.050680  0.044451 -0.005670 -0.045599 -0.034194 -0.032356   \n",
      "3 -0.089063 -0.044642 -0.011595 -0.036656  0.012191  0.024991 -0.036038   \n",
      "4  0.005383 -0.044642 -0.036385  0.021872  0.003935  0.015596  0.008142   \n",
      "\n",
      "         s4        s5        s6  target  \n",
      "0 -0.002592  0.019907 -0.017646   151.0  \n",
      "1 -0.039493 -0.068332 -0.092204    75.0  \n",
      "2 -0.002592  0.002861 -0.025930   141.0  \n",
      "3  0.034309  0.022688 -0.009362   206.0  \n",
      "4 -0.002592 -0.031988 -0.046641   135.0  \n"
     ]
    }
   ],
   "source": [
    "rawData = load_diabetes(as_frame = True)[\"data\"]\n",
    "rawData = pd.concat([rawData, load_diabetes(as_frame = True)[\"target\"]], axis = 1)\n",
    "print(rawData.head())\n",
    "trainData, testData = train_test_split(rawData, test_size = 0.2, shuffle = True) \n",
    "trainData, valiData = train_test_split(trainData, test_size = 0.25, shuffle = True) "
   ]
  },
  {
   "cell_type": "code",
   "execution_count": 3,
   "metadata": {},
   "outputs": [
    {
     "name": "stderr",
     "output_type": "stream",
     "text": [
      "\u001b[32m[I 2023-02-02 17:38:09,017]\u001b[0m A new study created in memory with name: no-name-046626b7-03d4-4bc1-9cac-741d99a3233a\u001b[0m\n",
      "\u001b[32m[I 2023-02-02 17:38:09,898]\u001b[0m Trial 5 finished with value: 4815.8443443100505 and parameters: {'n_estimators': 637, 'max_depth': 212, 'max_leaves': 15, 'max_bin': 64, 'learning_rate': 0.00269968775996452, 'tree_method': 'approx', 'subsample': 0.37206788452764417, 'colsample_bytree': 0.1788042139629482, 'colsample_bylevel': 0.42856916402625367, 'colsample_bynode': 0.8597358091319146, 'reg_alpha': 0.598537037895997, 'reg_lambda': 0.2881129566683739}. Best is trial 5 with value: 4815.8443443100505.\u001b[0m\n",
      "\u001b[32m[I 2023-02-02 17:38:10,861]\u001b[0m Trial 8 finished with value: 2995.2379672140114 and parameters: {'n_estimators': 774, 'max_depth': 296, 'max_leaves': 63, 'max_bin': 20, 'learning_rate': 0.008080927429023482, 'tree_method': 'hist', 'subsample': 0.46732142547445876, 'colsample_bytree': 0.19323140128983463, 'colsample_bylevel': 0.32214854145086436, 'colsample_bynode': 0.537971015485949, 'reg_alpha': 0.3242600174287035, 'reg_lambda': 0.7573491516567035}. Best is trial 8 with value: 2995.2379672140114.\u001b[0m\n",
      "\u001b[32m[I 2023-02-02 17:38:12,526]\u001b[0m Trial 0 finished with value: 3229.9336203625153 and parameters: {'n_estimators': 1717, 'max_depth': 406, 'max_leaves': 277, 'max_bin': 65, 'learning_rate': 0.006335388379921044, 'tree_method': 'exact', 'subsample': 0.7924085210306502, 'colsample_bytree': 0.2646996831461037, 'colsample_bylevel': 0.7688224897275645, 'colsample_bynode': 0.3206933402574845, 'reg_alpha': 0.8138794770502232, 'reg_lambda': 0.7525356912150555}. Best is trial 8 with value: 2995.2379672140114.\u001b[0m\n",
      "\u001b[32m[I 2023-02-02 17:38:16,116]\u001b[0m Trial 1 finished with value: 3306.8636273094885 and parameters: {'n_estimators': 3755, 'max_depth': 401, 'max_leaves': 9, 'max_bin': 48, 'learning_rate': 0.002027761374640061, 'tree_method': 'exact', 'subsample': 0.8021834485503427, 'colsample_bytree': 0.6490511605714862, 'colsample_bylevel': 0.24517084740607242, 'colsample_bynode': 0.7501002269002135, 'reg_alpha': 0.17848157022985456, 'reg_lambda': 0.48115471248770214}. Best is trial 8 with value: 2995.2379672140114.\u001b[0m\n",
      "\u001b[32m[I 2023-02-02 17:38:16,139]\u001b[0m Trial 2 finished with value: 3182.541467371361 and parameters: {'n_estimators': 4733, 'max_depth': 50, 'max_leaves': 8, 'max_bin': 69, 'learning_rate': 0.008295781225893162, 'tree_method': 'exact', 'subsample': 0.5959019020410085, 'colsample_bytree': 0.38810713600735913, 'colsample_bylevel': 0.4565327402311068, 'colsample_bynode': 0.3709791814382173, 'reg_alpha': 0.583731064082071, 'reg_lambda': 0.36116443245760965}. Best is trial 8 with value: 2995.2379672140114.\u001b[0m\n",
      "\u001b[32m[I 2023-02-02 17:38:17,818]\u001b[0m Trial 3 finished with value: 3375.123083796063 and parameters: {'n_estimators': 7446, 'max_depth': 274, 'max_leaves': 174, 'max_bin': 71, 'learning_rate': 0.006697935783020711, 'tree_method': 'exact', 'subsample': 0.10862437672667041, 'colsample_bytree': 0.49628328782601594, 'colsample_bylevel': 0.7306421668624651, 'colsample_bynode': 0.3439332924533812, 'reg_alpha': 0.5445043088375402, 'reg_lambda': 0.5797503115458148}. Best is trial 8 with value: 2995.2379672140114.\u001b[0m\n",
      "\u001b[32m[I 2023-02-02 17:38:18,927]\u001b[0m Trial 7 finished with value: 3224.8165282836003 and parameters: {'n_estimators': 6851, 'max_depth': 131, 'max_leaves': 100, 'max_bin': 7, 'learning_rate': 0.00179162687492104, 'tree_method': 'exact', 'subsample': 0.37696442828750665, 'colsample_bytree': 0.41252616534553066, 'colsample_bylevel': 0.6267062502875831, 'colsample_bynode': 0.6859162213268883, 'reg_alpha': 0.706010682131636, 'reg_lambda': 0.6068292130147852}. Best is trial 8 with value: 2995.2379672140114.\u001b[0m\n",
      "\u001b[32m[I 2023-02-02 17:38:20,652]\u001b[0m Trial 9 finished with value: 6472.490829131434 and parameters: {'n_estimators': 4599, 'max_depth': 104, 'max_leaves': 212, 'max_bin': 13, 'learning_rate': 0.00023959017855558192, 'tree_method': 'approx', 'subsample': 0.6998361012092004, 'colsample_bytree': 0.8677098318124712, 'colsample_bylevel': 0.818049540849521, 'colsample_bynode': 0.48219354898341793, 'reg_alpha': 0.8019739478583138, 'reg_lambda': 0.18727715051042618}. Best is trial 8 with value: 2995.2379672140114.\u001b[0m\n",
      "\u001b[32m[I 2023-02-02 17:38:21,027]\u001b[0m Trial 4 finished with value: 3144.023758724083 and parameters: {'n_estimators': 6124, 'max_depth': 248, 'max_leaves': 53, 'max_bin': 53, 'learning_rate': 0.00454174864612153, 'tree_method': 'approx', 'subsample': 0.7148730917774316, 'colsample_bytree': 0.5933004351722375, 'colsample_bylevel': 0.6711975983491474, 'colsample_bynode': 0.8738597384164632, 'reg_alpha': 0.2585170819150743, 'reg_lambda': 0.17714199936238764}. Best is trial 8 with value: 2995.2379672140114.\u001b[0m\n",
      "\u001b[32m[I 2023-02-02 17:38:21,824]\u001b[0m Trial 6 finished with value: 3139.070793592596 and parameters: {'n_estimators': 9118, 'max_depth': 163, 'max_leaves': 170, 'max_bin': 79, 'learning_rate': 0.004399172259181356, 'tree_method': 'hist', 'subsample': 0.3348737991881465, 'colsample_bytree': 0.2550273873795498, 'colsample_bylevel': 0.7083742305955956, 'colsample_bynode': 0.29317683329043503, 'reg_alpha': 0.8254816342003621, 'reg_lambda': 0.1849027160282277}. Best is trial 8 with value: 2995.2379672140114.\u001b[0m\n",
      "\u001b[32m[I 2023-02-02 17:38:22,414]\u001b[0m A new study created in memory with name: no-name-9004a847-cea0-45ae-94cc-2f21f1fabdc6\u001b[0m\n",
      "\u001b[32m[I 2023-02-02 17:38:22,479]\u001b[0m Trial 1 finished with value: 3611.094170483677 and parameters: {'num_leaves': 59, 'max_depth': 54, 'learning_rate': 0.03195614614014021, 'n_estimators': 124, 'min_split_gain': 0.5983035178449785, 'min_child_weight': 0.03102582139228051, 'min_child_samples': 93, 'subsample': 0.5453612434224303, 'colsample_bytree': 0.530367254253488, 'reg_alpha': 0.8129995523871619, 'reg_lambda': 0.44688148922771026}. Best is trial 1 with value: 3611.094170483677.\u001b[0m\n",
      "\u001b[32m[I 2023-02-02 17:38:22,493]\u001b[0m Trial 6 finished with value: 3636.5388083495664 and parameters: {'num_leaves': 25, 'max_depth': 14, 'learning_rate': 0.022207198140189236, 'n_estimators': 131, 'min_split_gain': 0.3922556814972784, 'min_child_weight': 0.08971476976174056, 'min_child_samples': 98, 'subsample': 0.7259215682577065, 'colsample_bytree': 0.8872629322465823, 'reg_alpha': 0.8964379098731488, 'reg_lambda': 0.32678060226228356}. Best is trial 1 with value: 3611.094170483677.\u001b[0m\n",
      "\u001b[32m[I 2023-02-02 17:38:22,532]\u001b[0m Trial 5 finished with value: 3344.193817383152 and parameters: {'num_leaves': 20, 'max_depth': 16, 'learning_rate': 0.08136176736320727, 'n_estimators': 83, 'min_split_gain': 0.14759604529923465, 'min_child_weight': 0.09614388395068854, 'min_child_samples': 37, 'subsample': 0.02733243271569963, 'colsample_bytree': 0.7332984264361645, 'reg_alpha': 0.4616124006100776, 'reg_lambda': 0.09111293574595847}. Best is trial 5 with value: 3344.193817383152.\u001b[0m\n",
      "\u001b[32m[I 2023-02-02 17:38:22,559]\u001b[0m Trial 2 finished with value: 3245.1168938933374 and parameters: {'num_leaves': 25, 'max_depth': 6, 'learning_rate': 0.06325273927523731, 'n_estimators': 138, 'min_split_gain': 0.1548609423603764, 'min_child_weight': 0.09768186412315928, 'min_child_samples': 64, 'subsample': 0.2886660226848634, 'colsample_bytree': 0.2827363827246384, 'reg_alpha': 0.6292067307193554, 'reg_lambda': 0.07295189381742681}. Best is trial 2 with value: 3245.1168938933374.\u001b[0m\n",
      "\u001b[32m[I 2023-02-02 17:38:22,591]\u001b[0m Trial 4 finished with value: 3492.293593124642 and parameters: {'num_leaves': 46, 'max_depth': 70, 'learning_rate': 0.04724943246624097, 'n_estimators': 330, 'min_split_gain': 0.22972485995816816, 'min_child_weight': 0.07587145751932696, 'min_child_samples': 100, 'subsample': 0.5441927228499925, 'colsample_bytree': 0.6978805107821963, 'reg_alpha': 0.3157556791964747, 'reg_lambda': 0.5696307656019707}. Best is trial 2 with value: 3245.1168938933374.\u001b[0m\n",
      "\u001b[32m[I 2023-02-02 17:38:22,609]\u001b[0m Trial 0 finished with value: 3126.3814587466322 and parameters: {'num_leaves': 64, 'max_depth': 2, 'learning_rate': 0.0866674742188518, 'n_estimators': 281, 'min_split_gain': 0.15999873487650096, 'min_child_weight': 0.012733373296700693, 'min_child_samples': 60, 'subsample': 0.9908645863486131, 'colsample_bytree': 0.5306344664728314, 'reg_alpha': 0.05265952822498735, 'reg_lambda': 0.7509806465979632}. Best is trial 0 with value: 3126.3814587466322.\u001b[0m\n",
      "\u001b[32m[I 2023-02-02 17:38:22,615]\u001b[0m Trial 7 finished with value: 3409.8919217820603 and parameters: {'num_leaves': 18, 'max_depth': 90, 'learning_rate': 0.05266071515880871, 'n_estimators': 193, 'min_split_gain': 0.502173385243078, 'min_child_weight': 0.061820420867157604, 'min_child_samples': 48, 'subsample': 0.45680474445526453, 'colsample_bytree': 0.5284507827308685, 'reg_alpha': 0.15908077277322155, 'reg_lambda': 0.7231262183478607}. Best is trial 0 with value: 3126.3814587466322.\u001b[0m\n",
      "\u001b[32m[I 2023-02-02 17:38:22,669]\u001b[0m Trial 8 finished with value: 3361.530608578384 and parameters: {'num_leaves': 45, 'max_depth': 36, 'learning_rate': 0.008252149504841887, 'n_estimators': 285, 'min_split_gain': 0.9351498898133626, 'min_child_weight': 0.021564551396002756, 'min_child_samples': 38, 'subsample': 0.8099343480130227, 'colsample_bytree': 0.28585544947013997, 'reg_alpha': 0.12031287137123825, 'reg_lambda': 0.09297125161913615}. Best is trial 0 with value: 3126.3814587466322.\u001b[0m\n",
      "\u001b[32m[I 2023-02-02 17:38:22,727]\u001b[0m Trial 9 finished with value: 3434.800811886469 and parameters: {'num_leaves': 93, 'max_depth': 86, 'learning_rate': 0.017488166178056617, 'n_estimators': 460, 'min_split_gain': 0.6772879290490589, 'min_child_weight': 0.03724667425917609, 'min_child_samples': 35, 'subsample': 0.33987989272519115, 'colsample_bytree': 0.43439131313545387, 'reg_alpha': 0.5466432028973347, 'reg_lambda': 0.051758862244098015}. Best is trial 0 with value: 3126.3814587466322.\u001b[0m\n",
      "\u001b[32m[I 2023-02-02 17:38:22,730]\u001b[0m Trial 3 finished with value: 3923.7712515628705 and parameters: {'num_leaves': 64, 'max_depth': 65, 'learning_rate': 0.051278501109793, 'n_estimators': 342, 'min_split_gain': 0.7141663274544608, 'min_child_weight': 0.0882230407810647, 'min_child_samples': 21, 'subsample': 0.5726241721991197, 'colsample_bytree': 0.8873688449181002, 'reg_alpha': 0.34891138259149146, 'reg_lambda': 0.5405008864879615}. Best is trial 0 with value: 3126.3814587466322.\u001b[0m\n",
      "6it [00:00, 330.81it/s]\n"
     ]
    }
   ],
   "source": [
    "totalResult = Model_Training_and_Evaluation_Flow.model_fit(trainData = trainData,\n",
    "                                                 valiData = valiData,\n",
    "                                                 testData = testData,\n",
    "                                                input_features = trainData.drop(columns = [\"target\"]).columns.tolist(), \n",
    "                                                target_label = \"target\", \n",
    "                                                target_type = \"regression\",\n",
    "                                                main_metric = \"mse\", \n",
    "                                                feature_selection_method = None, \n",
    "                                                hyperparameter_tuning = \"bayesopt\", \n",
    "                                                feature_importances = None,\n",
    "                                                model_file_name = None)"
   ]
  },
  {
   "cell_type": "code",
   "execution_count": 7,
   "metadata": {},
   "outputs": [
    {
     "data": {
      "text/plain": [
       "[{'Model': 'XGBoost',\n",
       "  'Features': ['age', 'sex', 'bmi', 'bp', 's1', 's2', 's3', 's4', 's5', 's6'],\n",
       "  'Set': 'train',\n",
       "  'Number_of_Data': 264,\n",
       "  'MAE': 40.80521187637792,\n",
       "  'MSE': 2439.689000558385,\n",
       "  'RMSE': 49.39320804076594,\n",
       "  'R2': 0.604600540583843},\n",
       " {'Model': 'XGBoost',\n",
       "  'Features': ['age', 'sex', 'bmi', 'bp', 's1', 's2', 's3', 's4', 's5', 's6'],\n",
       "  'Set': 'vali',\n",
       "  'Number_of_Data': 89,\n",
       "  'MAE': 38.22910823179095,\n",
       "  'MSE': 2108.6004709298336,\n",
       "  'RMSE': 45.91949989851625,\n",
       "  'R2': 0.5902529816475639},\n",
       " {'Model': 'XGBoost',\n",
       "  'Features': ['age', 'sex', 'bmi', 'bp', 's1', 's2', 's3', 's4', 's5', 's6'],\n",
       "  'Set': 'test',\n",
       "  'Number_of_Data': 89,\n",
       "  'MAE': 49.88366510626975,\n",
       "  'MSE': 3503.6056527573305,\n",
       "  'RMSE': 59.19126331442277,\n",
       "  'R2': 0.4126461550525524},\n",
       " {'Model': 'LightGBM',\n",
       "  'Features': ['age', 'sex', 'bmi', 'bp', 's1', 's2', 's3', 's4', 's5', 's6'],\n",
       "  'Set': 'train',\n",
       "  'Number_of_Data': 264,\n",
       "  'MAE': 33.666221676364906,\n",
       "  'MSE': 1874.583247397279,\n",
       "  'RMSE': 43.29645767724282,\n",
       "  'R2': 0.6961870129832846},\n",
       " {'Model': 'LightGBM',\n",
       "  'Features': ['age', 'sex', 'bmi', 'bp', 's1', 's2', 's3', 's4', 's5', 's6'],\n",
       "  'Set': 'vali',\n",
       "  'Number_of_Data': 89,\n",
       "  'MAE': 34.34099407199466,\n",
       "  'MSE': 1849.6783058971812,\n",
       "  'RMSE': 43.007886554644614,\n",
       "  'R2': 0.6405672002822125},\n",
       " {'Model': 'LightGBM',\n",
       "  'Features': ['age', 'sex', 'bmi', 'bp', 's1', 's2', 's3', 's4', 's5', 's6'],\n",
       "  'Set': 'test',\n",
       "  'Number_of_Data': 89,\n",
       "  'MAE': 48.120298764361735,\n",
       "  'MSE': 3436.908767620775,\n",
       "  'RMSE': 58.62515473430134,\n",
       "  'R2': 0.4238273996940958}]"
      ]
     },
     "execution_count": 7,
     "metadata": {},
     "output_type": "execute_result"
    }
   ],
   "source": [
    "# 模型評估結果\n",
    "totalResult[0]"
   ]
  },
  {
   "cell_type": "code",
   "execution_count": null,
   "metadata": {},
   "outputs": [],
   "source": []
  }
 ],
 "metadata": {
  "kernelspec": {
   "display_name": "Python 3",
   "language": "python",
   "name": "python3"
  },
  "language_info": {
   "codemirror_mode": {
    "name": "ipython",
    "version": 3
   },
   "file_extension": ".py",
   "mimetype": "text/x-python",
   "name": "python",
   "nbconvert_exporter": "python",
   "pygments_lexer": "ipython3",
   "version": "3.9.8"
  },
  "orig_nbformat": 4,
  "vscode": {
   "interpreter": {
    "hash": "af4a1e6a86c740b63a37040b3f0131c5c5c454fa1507d305e6c23d6bab4bfa1c"
   }
  }
 },
 "nbformat": 4,
 "nbformat_minor": 2
}
